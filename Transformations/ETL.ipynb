{
 "cells": [
  {
   "attachments": {},
   "cell_type": "markdown",
   "metadata": {},
   "source": [
    "Importamos las librerias que vamos a usar"
   ]
  },
  {
   "cell_type": "code",
   "execution_count": 30,
   "metadata": {},
   "outputs": [],
   "source": [
    "import pandas as pd\n",
    "import ast\n",
    "import numpy as np"
   ]
  },
  {
   "cell_type": "code",
   "execution_count": 52,
   "metadata": {},
   "outputs": [
    {
     "name": "stderr",
     "output_type": "stream",
     "text": [
      "C:\\Users\\Gabriel\\AppData\\Local\\Temp\\ipykernel_45256\\954623710.py:1: DtypeWarning: Columns (10) have mixed types. Specify dtype option on import or set low_memory=False.\n",
      "  movies = pd.read_csv(\"./Dataset/movies_dataset.csv\")\n"
     ]
    }
   ],
   "source": [
    "movies = pd.read_csv(\"../_src/Datasets/movies_dataset.csv\")\n",
    "credits = pd.read_csv(\"../_src/Datasets/credits.csv\")"
   ]
  },
  {
   "cell_type": "code",
   "execution_count": 32,
   "metadata": {},
   "outputs": [
    {
     "name": "stdout",
     "output_type": "stream",
     "text": [
      "<class 'pandas.core.frame.DataFrame'>\n",
      "RangeIndex: 45476 entries, 0 to 45475\n",
      "Data columns (total 3 columns):\n",
      " #   Column  Non-Null Count  Dtype \n",
      "---  ------  --------------  ----- \n",
      " 0   cast    45476 non-null  object\n",
      " 1   crew    45476 non-null  object\n",
      " 2   id      45476 non-null  int64 \n",
      "dtypes: int64(1), object(2)\n",
      "memory usage: 1.0+ MB\n"
     ]
    }
   ],
   "source": [
    "credits.info()"
   ]
  },
  {
   "cell_type": "code",
   "execution_count": 33,
   "metadata": {},
   "outputs": [
    {
     "name": "stdout",
     "output_type": "stream",
     "text": [
      "<class 'pandas.core.frame.DataFrame'>\n",
      "RangeIndex: 45466 entries, 0 to 45465\n",
      "Data columns (total 24 columns):\n",
      " #   Column                 Non-Null Count  Dtype  \n",
      "---  ------                 --------------  -----  \n",
      " 0   adult                  45466 non-null  object \n",
      " 1   belongs_to_collection  4494 non-null   object \n",
      " 2   budget                 45466 non-null  object \n",
      " 3   genres                 45466 non-null  object \n",
      " 4   homepage               7782 non-null   object \n",
      " 5   id                     45466 non-null  object \n",
      " 6   imdb_id                45449 non-null  object \n",
      " 7   original_language      45455 non-null  object \n",
      " 8   original_title         45466 non-null  object \n",
      " 9   overview               44512 non-null  object \n",
      " 10  popularity             45461 non-null  object \n",
      " 11  poster_path            45080 non-null  object \n",
      " 12  production_companies   45463 non-null  object \n",
      " 13  production_countries   45463 non-null  object \n",
      " 14  release_date           45379 non-null  object \n",
      " 15  revenue                45460 non-null  float64\n",
      " 16  runtime                45203 non-null  float64\n",
      " 17  spoken_languages       45460 non-null  object \n",
      " 18  status                 45379 non-null  object \n",
      " 19  tagline                20412 non-null  object \n",
      " 20  title                  45460 non-null  object \n",
      " 21  video                  45460 non-null  object \n",
      " 22  vote_average           45460 non-null  float64\n",
      " 23  vote_count             45460 non-null  float64\n",
      "dtypes: float64(4), object(20)\n",
      "memory usage: 8.3+ MB\n"
     ]
    }
   ],
   "source": [
    "movies.info()"
   ]
  },
  {
   "attachments": {},
   "cell_type": "markdown",
   "metadata": {},
   "source": [
    "### Dataset credits"
   ]
  },
  {
   "attachments": {},
   "cell_type": "markdown",
   "metadata": {},
   "source": [
    "Notemos que segun el readme, lo unico que nos interesa del dataset de credits son los directores para la funcion get_director.\n"
   ]
  },
  {
   "cell_type": "code",
   "execution_count": 34,
   "metadata": {},
   "outputs": [],
   "source": [
    "credits[\"crew\"] = credits[\"crew\"].apply(lambda x: ast.literal_eval(x) if pd.notnull(x) else np.nan)\n",
    "credits[\"crew\"] = credits[\"crew\"].apply(lambda x: ', '.join(genre['name'] for genre in x if genre[\"job\"]==\"Director\") \n",
    "                                        if isinstance(x, list)  else np.nan)"
   ]
  },
  {
   "cell_type": "code",
   "execution_count": 35,
   "metadata": {},
   "outputs": [],
   "source": [
    "credits.drop(columns=\"cast\",inplace=True)"
   ]
  },
  {
   "cell_type": "code",
   "execution_count": 36,
   "metadata": {},
   "outputs": [
    {
     "data": {
      "text/plain": [
       "                                                           887\n",
       "John Ford                                                   63\n",
       "Michael Curtiz                                              61\n",
       "Alfred Hitchcock                                            52\n",
       "Werner Herzog                                               52\n",
       "                                                          ... \n",
       "Joung Yumi                                                   1\n",
       "Melville W. Brown                                            1\n",
       "Rob Cowan                                                    1\n",
       "Yoshiharu Ashino, Vladimir Zhelezniakov, Aljosha Klimov      1\n",
       "Daisy Asquith                                                1\n",
       "Name: crew, Length: 18854, dtype: int64"
      ]
     },
     "execution_count": 36,
     "metadata": {},
     "output_type": "execute_result"
    }
   ],
   "source": [
    "credits[\"crew\"].value_counts()"
   ]
  },
  {
   "cell_type": "code",
   "execution_count": 37,
   "metadata": {},
   "outputs": [],
   "source": [
    "credits[\"crew\"].replace(\"\",np.nan,inplace=True)"
   ]
  },
  {
   "attachments": {},
   "cell_type": "markdown",
   "metadata": {},
   "source": [
    "### Dataset movies"
   ]
  },
  {
   "attachments": {},
   "cell_type": "markdown",
   "metadata": {},
   "source": [
    "#### Eliminar las columnas que no serán utilizadas: `video, imdb_id, adult, original_title, poster_path y homepage`.\n"
   ]
  },
  {
   "cell_type": "code",
   "execution_count": 53,
   "metadata": {},
   "outputs": [
    {
     "name": "stdout",
     "output_type": "stream",
     "text": [
      "(45466, 24)\n",
      "(45466, 18)\n"
     ]
    }
   ],
   "source": [
    "print(movies.shape)\n",
    "movies.drop(columns=[\"video\",\"imdb_id\",\"adult\",\"original_title\",\"poster_path\" ,\"homepage\"],inplace=True)\n",
    "print(movies.shape)"
   ]
  },
  {
   "attachments": {},
   "cell_type": "markdown",
   "metadata": {},
   "source": [
    "#### Algunos campos, como `belongs_to_collection`, `production_companies` y otros (ver [Diccionario de datos](https://docs.google.com/spreadsheets/d/1QkHH5er-74Bpk122tJxy_0D49pJMIwKLurByOfmxzho/edit#gid=0)) están anidados, esto es o bien tienen un diccionario o una lista como valores en cada fila, vamos a desanidarlos para poder visualizar sus datos y unirlos al dataset para hacer alguna de las consultas de la API!"
   ]
  },
  {
   "cell_type": "code",
   "execution_count": 54,
   "metadata": {},
   "outputs": [
    {
     "name": "stdout",
     "output_type": "stream",
     "text": [
      "belongs_to_collection : \n",
      " {'id': 10194, 'name': 'Toy Story Collection', 'poster_path': '/7G9915LfUQ2lVfwMEEhDsn3kT4B.jpg', 'backdrop_path': '/9FBwqcd9IRruEDUrTdcaafOMKUq.jpg'}\n",
      "genres : \n",
      " [{'id': 16, 'name': 'Animation'}, {'id': 35, 'name': 'Comedy'}, {'id': 10751, 'name': 'Family'}]\n",
      "production_companies : \n",
      " [{'name': 'Pixar Animation Studios', 'id': 3}]\n",
      "production_countries : \n",
      " [{'iso_3166_1': 'US', 'name': 'United States of America'}]\n",
      "spoken_languages : \n",
      " [{'iso_639_1': 'en', 'name': 'English'}]\n"
     ]
    }
   ],
   "source": [
    "# Veo como son los tipos de cada columna anidada\n",
    "columnas_anidadas = [\"belongs_to_collection\",\"genres\",\"production_companies\",\"production_countries\",\"spoken_languages\"]\n",
    "for columna in columnas_anidadas:\n",
    "    print(columna,\": \\n\", movies[f\"{columna}\"][0])"
   ]
  },
  {
   "attachments": {},
   "cell_type": "markdown",
   "metadata": {},
   "source": [
    "##### Notemos que en todos siempre aparece la key: \"name\" por lo que, solo me voy a quedar con esos datos"
   ]
  },
  {
   "cell_type": "code",
   "execution_count": 55,
   "metadata": {},
   "outputs": [],
   "source": [
    "for columna in columnas_anidadas:\n",
    "    movies[f\"{columna}\"] = movies[f\"{columna}\"].apply(lambda x: ast.literal_eval(x) if pd.notnull(x) else np.nan)\n",
    "    if columna == \"belongs_to_collection\":\n",
    "        belongs_to_collection = pd.json_normalize(movies[\"belongs_to_collection\"])\n",
    "        movies[\"belongs_to_collection\"] = belongs_to_collection[\"name\"]\n",
    "    else:\n",
    "        movies[f\"{columna}\"] = movies[f\"{columna}\"].apply(lambda x: ', '.join(genre['name'] for genre in x) if isinstance(x, list) else np.nan)"
   ]
  },
  {
   "cell_type": "code",
   "execution_count": 56,
   "metadata": {},
   "outputs": [],
   "source": [
    "for columna in columnas_anidadas:\n",
    "    movies[f\"{columna}\"].replace(\"\",np.nan,inplace=True)"
   ]
  },
  {
   "attachments": {},
   "cell_type": "markdown",
   "metadata": {},
   "source": [
    "#### Los valores nulos de los campos `revenue` y `budget` seran rellenados por el número 0."
   ]
  },
  {
   "cell_type": "code",
   "execution_count": 57,
   "metadata": {},
   "outputs": [
    {
     "name": "stdout",
     "output_type": "stream",
     "text": [
      "revenue | budget\n",
      "6 \t 0\n",
      "0 \t 0\n"
     ]
    }
   ],
   "source": [
    "print(\"revenue | budget\")\n",
    "print(movies[\"revenue\"].isna().sum(),\"\\t\" ,movies[\"budget\"].isna().sum())\n",
    "movies[\"revenue\"].fillna(0,inplace=True)\n",
    "movies[\"budget\"].fillna(0,inplace=True)\n",
    "print(movies[\"revenue\"].isna().sum(),\"\\t\",movies[\"budget\"].isna().sum())"
   ]
  },
  {
   "attachments": {},
   "cell_type": "markdown",
   "metadata": {},
   "source": [
    "#### Los valores nulos del campo `release date` deben eliminarse."
   ]
  },
  {
   "cell_type": "code",
   "execution_count": 43,
   "metadata": {},
   "outputs": [
    {
     "name": "stdout",
     "output_type": "stream",
     "text": [
      "87 nulos en el campo release_date\n",
      "0\n"
     ]
    }
   ],
   "source": [
    "print(movies[\"release_date\"].isnull().sum(),\"nulos en el campo release_date\")\n",
    "movies.dropna(subset=[\"release_date\"], inplace=True)\n",
    "print(movies[\"release_date\"].isnull().sum())"
   ]
  },
  {
   "attachments": {},
   "cell_type": "markdown",
   "metadata": {},
   "source": [
    "#### De haber fechas, deberán tener el formato _AAAA-mm-dd_, además crearemos la columna `release_year` donde vamos a extraer el año de la fecha de estreno."
   ]
  },
  {
   "cell_type": "code",
   "execution_count": 44,
   "metadata": {},
   "outputs": [],
   "source": [
    "movies[\"release_date\"] = pd.to_datetime(movies[\"release_date\"],errors='coerce',format=\"%Y-%m-%d\")\n",
    "movies[\"release_year\"] = movies[\"release_date\"].dt.year"
   ]
  },
  {
   "cell_type": "code",
   "execution_count": 45,
   "metadata": {},
   "outputs": [
    {
     "name": "stdout",
     "output_type": "stream",
     "text": [
      "3 nulos en el campo release_date\n",
      "0\n"
     ]
    }
   ],
   "source": [
    "print(movies[\"release_date\"].isnull().sum(),\"nulos en el campo release_date\")\n",
    "movies.dropna(subset=[\"release_date\"], inplace=True)\n",
    "print(movies[\"release_date\"].isnull().sum())"
   ]
  },
  {
   "attachments": {},
   "cell_type": "markdown",
   "metadata": {},
   "source": [
    "#### Crearemos la columna con el retorno de inversión, llamada `return` con los campos _`revenue`_ y _`budget`_, dividiendo estas dos últimas, cuando no hay datos disponibles para calcularlo, tomaremos el valor 0."
   ]
  },
  {
   "cell_type": "code",
   "execution_count": 46,
   "metadata": {},
   "outputs": [],
   "source": [
    "movies[\"budget\"] = pd.to_numeric(movies[\"budget\"], errors='coerce')\n",
    "\n",
    "movies[\"return\"] = movies.apply(lambda row: row[\"revenue\"] / row[\"budget\"] if row[\"budget\"] != 0 else 0, axis=1)"
   ]
  },
  {
   "cell_type": "code",
   "execution_count": 47,
   "metadata": {},
   "outputs": [
    {
     "data": {
      "text/plain": [
       "0"
      ]
     },
     "execution_count": 47,
     "metadata": {},
     "output_type": "execute_result"
    }
   ],
   "source": [
    "movies[\"return\"].isna().sum()"
   ]
  },
  {
   "attachments": {},
   "cell_type": "markdown",
   "metadata": {},
   "source": [
    "#### Unimos los datasets en uno solo"
   ]
  },
  {
   "cell_type": "code",
   "execution_count": 48,
   "metadata": {},
   "outputs": [],
   "source": [
    "movies[\"id\"] = pd.to_numeric(movies[\"id\"], errors='coerce',  downcast= \"integer\")\n",
    "movies_clean = pd.merge(movies,credits,how=\"left\",on=\"id\")"
   ]
  },
  {
   "attachments": {},
   "cell_type": "markdown",
   "metadata": {},
   "source": [
    "Lo llevamos a csv"
   ]
  },
  {
   "cell_type": "code",
   "execution_count": 49,
   "metadata": {},
   "outputs": [],
   "source": [
    "# movies_clean.to_csv(\"../_src/Datasets/movies_clean.csv\",index=False)"
   ]
  }
 ],
 "metadata": {
  "kernelspec": {
   "display_name": "Python 3",
   "language": "python",
   "name": "python3"
  },
  "language_info": {
   "codemirror_mode": {
    "name": "ipython",
    "version": 3
   },
   "file_extension": ".py",
   "mimetype": "text/x-python",
   "name": "python",
   "nbconvert_exporter": "python",
   "pygments_lexer": "ipython3",
   "version": "3.9.5"
  },
  "orig_nbformat": 4
 },
 "nbformat": 4,
 "nbformat_minor": 2
}
