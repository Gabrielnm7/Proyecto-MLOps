{
 "cells": [
  {
   "cell_type": "markdown",
   "metadata": {},
   "source": [
    "**Importamos las librerias**"
   ]
  },
  {
   "cell_type": "code",
   "execution_count": 47,
   "metadata": {},
   "outputs": [],
   "source": [
    "import pandas as pd\n",
    "import numpy as np\n",
    "from sklearn.feature_extraction.text import CountVectorizer\n",
    "from sklearn.metrics.pairwise import cosine_similarity\n",
    "import joblib"
   ]
  },
  {
   "cell_type": "markdown",
   "metadata": {},
   "source": [
    "**Cargamos los datos**"
   ]
  },
  {
   "cell_type": "code",
   "execution_count": 58,
   "metadata": {},
   "outputs": [
    {
     "data": {
      "text/plain": [
       "(14879, 5)"
      ]
     },
     "execution_count": 58,
     "metadata": {},
     "output_type": "execute_result"
    }
   ],
   "source": [
    "df = pd.read_csv('../_src/Datasets/movies_model.csv')\n",
    "df.shape"
   ]
  },
  {
   "cell_type": "markdown",
   "metadata": {},
   "source": [
    "Nos quedamos con las primeras 7000 peliculas"
   ]
  },
  {
   "cell_type": "code",
   "execution_count": 49,
   "metadata": {},
   "outputs": [],
   "source": [
    "df = df.head(7000)"
   ]
  },
  {
   "cell_type": "code",
   "execution_count": 50,
   "metadata": {},
   "outputs": [],
   "source": [
    "df[\"genres\"] = df[\"genres\"].fillna('').astype(str)\n",
    "df[\"production_companies\"] = df[\"production_companies\"].fillna('').astype(str)\n",
    "df[\"title\"] = df[\"title\"].fillna('').astype(str)\n",
    "df[\"crew\"] = df[\"crew\"].fillna('').astype(str)\n",
    "\n",
    "# Concatenamos las columnas\n",
    "combined_text = df[\"genres\"] + \" \" + df[\"production_companies\"] # + \" \" + df[\"crew\"] + \" \" + df[\"title\"]\n",
    "# Tras algunas pruebas posteriores he decidido que crew y title no son buenas columnas para las recomendaciones\n",
    "combined_text = combined_text.str.replace(',','')"
   ]
  },
  {
   "cell_type": "code",
   "execution_count": 51,
   "metadata": {},
   "outputs": [],
   "source": [
    "# Instanciamos el modelo\n",
    "vectorizer = CountVectorizer()\n",
    "# Entrenamos el modelo\n",
    "classification_matrix = vectorizer.fit_transform(combined_text)\n",
    "# Calculamos la similitud del coseno\n",
    "cosine_sim = cosine_similarity(classification_matrix)"
   ]
  },
  {
   "cell_type": "markdown",
   "metadata": {},
   "source": [
    "Guardamos la matrix de similitud en un archivo comprimido de joblib"
   ]
  },
  {
   "cell_type": "code",
   "execution_count": 52,
   "metadata": {},
   "outputs": [
    {
     "data": {
      "text/plain": [
       "['./Dataset/cosine_sim.joblib']"
      ]
     },
     "execution_count": 52,
     "metadata": {},
     "output_type": "execute_result"
    }
   ],
   "source": [
    "joblib.dump(cosine_sim, '../_src/Datasets/cosine_sim.joblib', compress=True)"
   ]
  },
  {
   "cell_type": "markdown",
   "metadata": {},
   "source": [
    "Creamos la funcion de recomendacion y la testeamos "
   ]
  },
  {
   "cell_type": "code",
   "execution_count": 53,
   "metadata": {},
   "outputs": [],
   "source": [
    "def recomendacion(titulo: str, n: int = 5):\n",
    "    # Obtenemos el índice de la película en el DataFrame\n",
    "    indice = df[df['title'] == titulo].index[0]\n",
    "    # Obtenemos los scores de similitud para la película seleccionada\n",
    "    sim_scores = list(enumerate(cosine_sim[indice]))\n",
    "    # Ordenamos los scores de mayor a menor\n",
    "    sim_scores = sorted(sim_scores, key=lambda x: x[1], reverse=True)\n",
    "    # Creamos la lista donde pondremos las n peliculas mas similares\n",
    "    recomendaciones = []\n",
    "    i = 0\n",
    "    while len(recomendaciones)!=n:\n",
    "        if df.iloc[sim_scores[i][0]].title == titulo:\n",
    "                i+=1\n",
    "        recomendaciones.append((df.iloc[sim_scores[i][0]].title))\n",
    "        i+=1\n",
    "    return {\"Pelicula\":titulo,\"Recomendaciones\":recomendaciones}"
   ]
  },
  {
   "cell_type": "code",
   "execution_count": 54,
   "metadata": {},
   "outputs": [
    {
     "data": {
      "text/plain": [
       "{'Pelicula': 'Cars',\n",
       " 'Recomendaciones': [\"A Bug's Life\",\n",
       "  'Monsters, Inc.',\n",
       "  'The Incredibles',\n",
       "  'Ratatouille',\n",
       "  'Meet the Robinsons']}"
      ]
     },
     "execution_count": 54,
     "metadata": {},
     "output_type": "execute_result"
    }
   ],
   "source": [
    "recomendacion(\"Cars\")"
   ]
  }
 ],
 "metadata": {
  "kernelspec": {
   "display_name": "Python 3",
   "language": "python",
   "name": "python3"
  },
  "language_info": {
   "codemirror_mode": {
    "name": "ipython",
    "version": 3
   },
   "file_extension": ".py",
   "mimetype": "text/x-python",
   "name": "python",
   "nbconvert_exporter": "python",
   "pygments_lexer": "ipython3",
   "version": "3.9.5"
  },
  "orig_nbformat": 4
 },
 "nbformat": 4,
 "nbformat_minor": 2
}
